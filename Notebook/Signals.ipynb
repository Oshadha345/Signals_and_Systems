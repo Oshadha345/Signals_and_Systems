{
 "cells": [
  {
   "cell_type": "markdown",
   "id": "411e07e9",
   "metadata": {},
   "source": [
    "# Libraries "
   ]
  },
  {
   "cell_type": "code",
   "execution_count": 1,
   "id": "462d978b",
   "metadata": {},
   "outputs": [],
   "source": [
    "import numpy as np\n",
    "import matplotlib.pyplot as plt \n",
    "from sympy import *\n",
    "from scipy import signal\n",
    "from matplotlib import style"
   ]
  },
  {
   "cell_type": "markdown",
   "id": "c6ae717d",
   "metadata": {},
   "source": [
    "# Phase 01: Introduction "
   ]
  },
  {
   "cell_type": "markdown",
   "id": "08fe44d8",
   "metadata": {},
   "source": [
    "## Signal Classification"
   ]
  },
  {
   "cell_type": "markdown",
   "id": "a40a174e",
   "metadata": {},
   "source": [
    "### Continuous Vs Discrete Signals"
   ]
  },
  {
   "cell_type": "markdown",
   "id": "dd037422",
   "metadata": {},
   "source": [
    "| **Continuous-Time**          | **Discrete-Time**                   |\n",
    "| ---------------------------- | ----------------------------------- |\n",
    "| Defined for all time `t ∈ ℝ` | Only at specific time steps `n ∈ ℤ` |\n",
    "| Think: analog                | Think: digital samples              |\n",
    "| e.g. sin(t), voice, ECG      | e.g. sampled audio, image pixels    |\n"
   ]
  },
  {
   "cell_type": "code",
   "execution_count": null,
   "id": "4c1bf161",
   "metadata": {},
   "outputs": [],
   "source": [
    "# period of the continuous signal\n",
    "T = 1 / 5  # 5 Hz frequency\n",
    "\n",
    "#continuous function definition\n",
    "t = np.linspace(-10, 10, 1000)\n",
    "x_ct = np.sin(2 * np.pi * t / T)\n",
    "\n",
    "#discrete function definition\n",
    "n = np.arange(-10, 10)\n",
    "x_dt = np.sin(2 * np.pi *  n / 10 ) # if the sampling frequency is 10 Hz\n",
    "\n",
    "#plot both signals\n",
    "\n",
    "plt.figure(figsize=(12, 4))\n",
    "\n",
    "\n",
    "plt.subplot(1, 2, 1)\n",
    "plt.plot(t, x_ct, label='Continuous Signal', color='blue')\n",
    "plt.title('Continuous-Time Signal')\n",
    "plt.xlabel('Time')\n",
    "plt.ylabel('Amplitude')\n",
    "\n",
    "plt.subplot(1, 2, 2)\n",
    "plt.plot(n, x_dt, 'ro', label='Discrete Signal', markersize=4)\n",
    "plt.title('Discrete-Time Signal')\n",
    "plt.xlabel('Time')\n",
    "plt.ylabel('Amplitude')\n",
    "\n",
    "plt.tight_layout()\n",
    "plt.legend()\n",
    "plt.show()\n",
    "\n"
   ]
  }
 ],
 "metadata": {
  "kernelspec": {
   "display_name": "Python 3",
   "language": "python",
   "name": "python3"
  },
  "language_info": {
   "codemirror_mode": {
    "name": "ipython",
    "version": 3
   },
   "file_extension": ".py",
   "mimetype": "text/x-python",
   "name": "python",
   "nbconvert_exporter": "python",
   "pygments_lexer": "ipython3",
   "version": "3.10.4"
  }
 },
 "nbformat": 4,
 "nbformat_minor": 5
}
